{
 "cells": [
  {
   "cell_type": "markdown",
   "id": "01b4ae70",
   "metadata": {},
   "source": [
    "# H1: Data Science Tools and Ecosystem "
   ]
  },
  {
   "cell_type": "markdown",
   "id": "3b5286e2",
   "metadata": {},
   "source": [
    "In this notebook, Data Science Tools and Ecosystem are summarized."
   ]
  },
  {
   "cell_type": "markdown",
   "id": "b2150f16",
   "metadata": {},
   "source": [
    " # Objectives:\n",
    " #### Some of the popular languages that Data Scientists use. \n",
    " #### Some of the Commonly used libraries used by Data Scientists \n",
    " #### Below are a few examples of arithmetic expressions in Python\n",
    "    "
   ]
  },
  {
   "cell_type": "markdown",
   "id": "378e44c0",
   "metadata": {},
   "source": [
    "Some of the popular languages that Data Scientists use are: \n",
    "   #### 1. Python\n",
    "   #### 2. R\n",
    "   #### 3. Julia\n",
    "   #### 4. Ruby\n",
    "   #### 5. C/C++"
   ]
  },
  {
   "cell_type": "markdown",
   "id": "08af5ad9",
   "metadata": {},
   "source": [
    "### Some of the commonly used libraries used by Data Scientists include: \n",
    "\n",
    "### 1. ggplot2\n",
    "### 2. plotly\n",
    "### 3. pandas\n",
    "### 4. numpy\n",
    "### 5. seaborn\n",
    "### 6. leaflet"
   ]
  },
  {
   "cell_type": "markdown",
   "id": "3d196db7",
   "metadata": {},
   "source": [
    "| Data Science Tools | \n",
    "|--------------------|\n",
    "| 1. R-Studio.       |\n",
    "| 2. Anaconda.       |\n",
    "| 3. Jupyter Notebook|\n",
    "| 4. Spyder.         |"
   ]
  },
  {
   "cell_type": "markdown",
   "id": "28922526",
   "metadata": {},
   "source": [
    "### Below are a few examples of arithmetic expressions in Python "
   ]
  },
  {
   "cell_type": "code",
   "execution_count": 2,
   "id": "fc3c16d2",
   "metadata": {},
   "outputs": [
    {
     "data": {
      "text/plain": [
       "17"
      ]
     },
     "execution_count": 2,
     "metadata": {},
     "output_type": "execute_result"
    }
   ],
   "source": [
    "# This is simple arithmetic expression to mutiply then add integers\n",
    "\n",
    "(3*4)+5"
   ]
  },
  {
   "cell_type": "code",
   "execution_count": 7,
   "id": "7229e4e4",
   "metadata": {},
   "outputs": [
    {
     "data": {
      "text/plain": [
       "3.3333333333333335"
      ]
     },
     "execution_count": 7,
     "metadata": {},
     "output_type": "execute_result"
    }
   ],
   "source": [
    "#  This will convert 200 minutes to hours by diving by 60\n",
    "\n",
    "200/60"
   ]
  },
  {
   "cell_type": "code",
   "execution_count": null,
   "id": "acea0c61",
   "metadata": {},
   "outputs": [],
   "source": []
  },
  {
   "cell_type": "markdown",
   "id": "285dca92",
   "metadata": {},
   "source": [
    "## Author\n",
    "\n",
    "### Darry Coverson "
   ]
  },
  {
   "cell_type": "code",
   "execution_count": null,
   "id": "e225c789",
   "metadata": {},
   "outputs": [],
   "source": []
  }
 ],
 "metadata": {
  "kernelspec": {
   "display_name": "Python 3 (ipykernel)",
   "language": "python",
   "name": "python3"
  },
  "language_info": {
   "codemirror_mode": {
    "name": "ipython",
    "version": 3
   },
   "file_extension": ".py",
   "mimetype": "text/x-python",
   "name": "python",
   "nbconvert_exporter": "python",
   "pygments_lexer": "ipython3",
   "version": "3.9.13"
  }
 },
 "nbformat": 4,
 "nbformat_minor": 5
}
